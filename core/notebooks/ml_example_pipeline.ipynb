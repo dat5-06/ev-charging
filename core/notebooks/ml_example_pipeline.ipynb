{
 "cells": [
  {
   "cell_type": "code",
   "execution_count": 1,
   "id": "7a53ff3e-2f69-4006-b19c-664cfd80250e",
   "metadata": {},
   "outputs": [],
   "source": [
    "import torch\n",
    "import torch.nn as nn\n",
    "import matplotlib.pyplot as plt\n",
    "from torch.utils.data import Dataset, DataLoader\n",
    "from sklearn.preprocessing import MinMaxScaler\n",
    "from core.util.io import read_csv"
   ]
  },
  {
   "cell_type": "markdown",
   "id": "ad8a7b4c-5116-49ba-8b00-8cff736e5db6",
   "metadata": {},
   "source": [
    "Global parameters."
   ]
  },
  {
   "cell_type": "code",
   "execution_count": 2,
   "id": "fcb569a4-9faf-462b-858e-b9f1a64e4a3d",
   "metadata": {},
   "outputs": [],
   "source": [
    "batch_size = 8\n",
    "learning_rate = 0.001\n",
    "num_epochs = 10\n",
    "loss_function = nn.MSELoss()"
   ]
  },
  {
   "cell_type": "markdown",
   "id": "a1f8a0a7-1561-4ea6-bd3d-d9b5c6636e45",
   "metadata": {},
   "source": [
    "Read the preprocessed Trefor data and print for validation."
   ]
  },
  {
   "cell_type": "code",
   "execution_count": 3,
   "id": "55d3ce1f-1ce1-4eaf-ac7b-8a0bbccfa482",
   "metadata": {},
   "outputs": [
    {
     "data": {
      "text/html": [
       "<div>\n",
       "<style scoped>\n",
       "    .dataframe tbody tr th:only-of-type {\n",
       "        vertical-align: middle;\n",
       "    }\n",
       "\n",
       "    .dataframe tbody tr th {\n",
       "        vertical-align: top;\n",
       "    }\n",
       "\n",
       "    .dataframe thead th {\n",
       "        text-align: right;\n",
       "    }\n",
       "</style>\n",
       "<table border=\"1\" class=\"dataframe\">\n",
       "  <thead>\n",
       "    <tr style=\"text-align: right;\">\n",
       "      <th></th>\n",
       "      <th>Total_Consumption</th>\n",
       "      <th>Total_Consumption(t-5)</th>\n",
       "      <th>Total_Consumption(t-4)</th>\n",
       "      <th>Total_Consumption(t-3)</th>\n",
       "      <th>Total_Consumption(t-2)</th>\n",
       "      <th>Total_Consumption(t-1)</th>\n",
       "    </tr>\n",
       "  </thead>\n",
       "  <tbody>\n",
       "    <tr>\n",
       "      <th>0</th>\n",
       "      <td>146.108</td>\n",
       "      <td>227.852</td>\n",
       "      <td>227.971</td>\n",
       "      <td>213.314</td>\n",
       "      <td>189.091</td>\n",
       "      <td>167.948</td>\n",
       "    </tr>\n",
       "    <tr>\n",
       "      <th>1</th>\n",
       "      <td>132.478</td>\n",
       "      <td>227.971</td>\n",
       "      <td>213.314</td>\n",
       "      <td>189.091</td>\n",
       "      <td>167.948</td>\n",
       "      <td>146.108</td>\n",
       "    </tr>\n",
       "    <tr>\n",
       "      <th>2</th>\n",
       "      <td>125.822</td>\n",
       "      <td>213.314</td>\n",
       "      <td>189.091</td>\n",
       "      <td>167.948</td>\n",
       "      <td>146.108</td>\n",
       "      <td>132.478</td>\n",
       "    </tr>\n",
       "    <tr>\n",
       "      <th>3</th>\n",
       "      <td>139.345</td>\n",
       "      <td>189.091</td>\n",
       "      <td>167.948</td>\n",
       "      <td>146.108</td>\n",
       "      <td>132.478</td>\n",
       "      <td>125.822</td>\n",
       "    </tr>\n",
       "    <tr>\n",
       "      <th>4</th>\n",
       "      <td>183.487</td>\n",
       "      <td>167.948</td>\n",
       "      <td>146.108</td>\n",
       "      <td>132.478</td>\n",
       "      <td>125.822</td>\n",
       "      <td>139.345</td>\n",
       "    </tr>\n",
       "    <tr>\n",
       "      <th>...</th>\n",
       "      <td>...</td>\n",
       "      <td>...</td>\n",
       "      <td>...</td>\n",
       "      <td>...</td>\n",
       "      <td>...</td>\n",
       "      <td>...</td>\n",
       "    </tr>\n",
       "    <tr>\n",
       "      <th>17510</th>\n",
       "      <td>356.097</td>\n",
       "      <td>398.229</td>\n",
       "      <td>386.921</td>\n",
       "      <td>406.370</td>\n",
       "      <td>384.986</td>\n",
       "      <td>415.585</td>\n",
       "    </tr>\n",
       "    <tr>\n",
       "      <th>17511</th>\n",
       "      <td>280.467</td>\n",
       "      <td>386.921</td>\n",
       "      <td>406.370</td>\n",
       "      <td>384.986</td>\n",
       "      <td>415.585</td>\n",
       "      <td>356.097</td>\n",
       "    </tr>\n",
       "    <tr>\n",
       "      <th>17512</th>\n",
       "      <td>265.300</td>\n",
       "      <td>406.370</td>\n",
       "      <td>384.986</td>\n",
       "      <td>415.585</td>\n",
       "      <td>356.097</td>\n",
       "      <td>280.467</td>\n",
       "    </tr>\n",
       "    <tr>\n",
       "      <th>17513</th>\n",
       "      <td>228.468</td>\n",
       "      <td>384.986</td>\n",
       "      <td>415.585</td>\n",
       "      <td>356.097</td>\n",
       "      <td>280.467</td>\n",
       "      <td>265.300</td>\n",
       "    </tr>\n",
       "    <tr>\n",
       "      <th>17514</th>\n",
       "      <td>208.700</td>\n",
       "      <td>415.585</td>\n",
       "      <td>356.097</td>\n",
       "      <td>280.467</td>\n",
       "      <td>265.300</td>\n",
       "      <td>228.468</td>\n",
       "    </tr>\n",
       "  </tbody>\n",
       "</table>\n",
       "<p>17515 rows × 6 columns</p>\n",
       "</div>"
      ],
      "text/plain": [
       "       Total_Consumption  Total_Consumption(t-5)  Total_Consumption(t-4)  \\\n",
       "0                146.108                 227.852                 227.971   \n",
       "1                132.478                 227.971                 213.314   \n",
       "2                125.822                 213.314                 189.091   \n",
       "3                139.345                 189.091                 167.948   \n",
       "4                183.487                 167.948                 146.108   \n",
       "...                  ...                     ...                     ...   \n",
       "17510            356.097                 398.229                 386.921   \n",
       "17511            280.467                 386.921                 406.370   \n",
       "17512            265.300                 406.370                 384.986   \n",
       "17513            228.468                 384.986                 415.585   \n",
       "17514            208.700                 415.585                 356.097   \n",
       "\n",
       "       Total_Consumption(t-3)  Total_Consumption(t-2)  Total_Consumption(t-1)  \n",
       "0                     213.314                 189.091                 167.948  \n",
       "1                     189.091                 167.948                 146.108  \n",
       "2                     167.948                 146.108                 132.478  \n",
       "3                     146.108                 132.478                 125.822  \n",
       "4                     132.478                 125.822                 139.345  \n",
       "...                       ...                     ...                     ...  \n",
       "17510                 406.370                 384.986                 415.585  \n",
       "17511                 384.986                 415.585                 356.097  \n",
       "17512                 415.585                 356.097                 280.467  \n",
       "17513                 356.097                 280.467                 265.300  \n",
       "17514                 280.467                 265.300                 228.468  \n",
       "\n",
       "[17515 rows x 6 columns]"
      ]
     },
     "execution_count": 3,
     "metadata": {},
     "output_type": "execute_result"
    }
   ],
   "source": [
    "data = read_csv(\"core/data/processed/trefor_final.csv\")\n",
    "\n",
    "data"
   ]
  },
  {
   "cell_type": "markdown",
   "id": "dbc9a437-5750-4504-a953-fb658163a2b8",
   "metadata": {},
   "source": [
    "Use CUDA if available."
   ]
  },
  {
   "cell_type": "code",
   "execution_count": 4,
   "id": "a053ac44-d64a-4c3f-a03f-4a2ffd228494",
   "metadata": {},
   "outputs": [
    {
     "data": {
      "text/plain": [
       "'cpu'"
      ]
     },
     "execution_count": 4,
     "metadata": {},
     "output_type": "execute_result"
    }
   ],
   "source": [
    "device = \"cuda:0\" if torch.cuda.is_available() else \"cpu\"\n",
    "\n",
    "device"
   ]
  },
  {
   "cell_type": "markdown",
   "id": "5fc369e3-cc97-425b-96f8-ed7e2d54213b",
   "metadata": {},
   "source": [
    "Convert dataframe to numpy."
   ]
  },
  {
   "cell_type": "code",
   "execution_count": 5,
   "id": "a3196432-b571-4de6-8402-835df1745160",
   "metadata": {},
   "outputs": [
    {
     "data": {
      "text/plain": [
       "array([[146.108, 227.852, 227.971, 213.314, 189.091, 167.948],\n",
       "       [132.478, 227.971, 213.314, 189.091, 167.948, 146.108],\n",
       "       [125.822, 213.314, 189.091, 167.948, 146.108, 132.478],\n",
       "       ...,\n",
       "       [265.3  , 406.37 , 384.986, 415.585, 356.097, 280.467],\n",
       "       [228.468, 384.986, 415.585, 356.097, 280.467, 265.3  ],\n",
       "       [208.7  , 415.585, 356.097, 280.467, 265.3  , 228.468]])"
      ]
     },
     "execution_count": 5,
     "metadata": {},
     "output_type": "execute_result"
    }
   ],
   "source": [
    "data_as_numpy = data.to_numpy()\n",
    "\n",
    "data_as_numpy"
   ]
  },
  {
   "cell_type": "markdown",
   "id": "e599066f-16bb-480a-a99b-f3aae3e15847",
   "metadata": {},
   "source": [
    "Normalize data to improve trainability."
   ]
  },
  {
   "cell_type": "code",
   "execution_count": 6,
   "id": "b38c776a-cf18-4df4-b05b-b4790435d2e6",
   "metadata": {},
   "outputs": [
    {
     "data": {
      "text/plain": [
       "array([[0.1039824 , 0.19039374, 0.19051953, 0.17502566, 0.1494196 ,\n",
       "        0.1270694 ],\n",
       "       [0.08957417, 0.19051953, 0.17502566, 0.1494196 , 0.1270694 ,\n",
       "        0.1039824 ],\n",
       "       [0.08253813, 0.17502566, 0.1494196 , 0.1270694 , 0.1039824 ,\n",
       "        0.08957417],\n",
       "       ...,\n",
       "       [0.2299799 , 0.37910458, 0.35649961, 0.38884572, 0.32596114,\n",
       "        0.24601289],\n",
       "       [0.19104491, 0.35649961, 0.38884572, 0.32596114, 0.24601289,\n",
       "        0.2299799 ],\n",
       "       [0.17014822, 0.38884572, 0.32596114, 0.24601289, 0.2299799 ,\n",
       "        0.19104491]])"
      ]
     },
     "execution_count": 6,
     "metadata": {},
     "output_type": "execute_result"
    }
   ],
   "source": [
    "scaler = MinMaxScaler(feature_range=(0, 1))\n",
    "data_normalized = scaler.fit_transform(data_as_numpy)\n",
    "\n",
    "data_normalized"
   ]
  },
  {
   "cell_type": "markdown",
   "id": "2870817e-a014-4c43-8fb5-9d5d402d4275",
   "metadata": {},
   "source": [
    "Split numpy array into feature and target."
   ]
  },
  {
   "cell_type": "code",
   "execution_count": 7,
   "id": "5d46e7b0-0379-4bbf-945e-9d886ef52832",
   "metadata": {},
   "outputs": [],
   "source": [
    "X = data_normalized[:, 1:]  # Features\n",
    "Y = data_normalized[:, 0]  # Target"
   ]
  },
  {
   "cell_type": "markdown",
   "id": "7e021e31-6f02-4023-9ccb-486d46edce4a",
   "metadata": {},
   "source": [
    "Split dataset into a training set and a validation set. Split index is set with a global variable."
   ]
  },
  {
   "cell_type": "code",
   "execution_count": 8,
   "id": "414d37c9-84ef-4812-8665-e5de40b15c23",
   "metadata": {},
   "outputs": [],
   "source": [
    "split_index = int(len(X) * 0.80)\n",
    "\n",
    "X_train, Y_train = X[:split_index], Y[:split_index]\n",
    "X_test, Y_test = X[split_index:], Y[split_index:]\n",
    "\n",
    "# Something something lstm needs an extra dimension? If removed it does not run.\n",
    "X_train = X_train.reshape((-1, 5, 1))\n",
    "X_test = X_test.reshape((-1, 5, 1))\n",
    "\n",
    "Y_train = Y_train.reshape((-1, 1))\n",
    "Y_test = Y_test.reshape((-1, 1))"
   ]
  },
  {
   "cell_type": "markdown",
   "id": "1651bef1-9cf6-4096-a1e3-872e71ba393f",
   "metadata": {},
   "source": [
    "Convert the datasets to tensors."
   ]
  },
  {
   "cell_type": "code",
   "execution_count": 9,
   "id": "554dac7e-70b9-4e74-9dc7-2de78dbb2edd",
   "metadata": {},
   "outputs": [],
   "source": [
    "x_train = torch.tensor(X_train).float()\n",
    "y_train = torch.tensor(Y_train).float()\n",
    "x_test = torch.tensor(X_test).float()\n",
    "y_test = torch.tensor(Y_test).float()"
   ]
  },
  {
   "cell_type": "markdown",
   "id": "36e36259-a48c-4c47-9085-54aff9f7dd39",
   "metadata": {},
   "source": [
    "Create the dataset and initialize training and test datasets with our data"
   ]
  },
  {
   "cell_type": "code",
   "execution_count": 10,
   "id": "484026da-9e17-4d8f-a210-555b275b6574",
   "metadata": {},
   "outputs": [],
   "source": [
    "class TreforData(Dataset):\n",
    "    \"\"\"Initialize Trefor dataset.\"\"\"\n",
    "\n",
    "    def __init__(self, x: torch.tensor, y: torch.tensor) -> None:\n",
    "        \"\"\"Initialize dataset.\n",
    "\n",
    "        Arguments:\n",
    "            x: feature as torch\n",
    "            y: target as torch\n",
    "\n",
    "        \"\"\"\n",
    "        self.x = x\n",
    "        self.y = y\n",
    "\n",
    "    def __len__(self) -> int:\n",
    "        \"\"\"Return length of dataset.\"\"\"\n",
    "        return len(self.x)\n",
    "\n",
    "    def __getitem__(self, i: int) -> tuple:\n",
    "        \"\"\"Return tuple from dataset.\"\"\"\n",
    "        return self.x[i], self.y[i]\n",
    "\n",
    "\n",
    "train_dataset = TreforData(x_train, y_train)\n",
    "test_dataset = TreforData(x_test, y_test)"
   ]
  },
  {
   "cell_type": "markdown",
   "id": "150b1c41-512a-4839-8bf4-d3d44b3f22ba",
   "metadata": {},
   "source": [
    "Load data into a dataloader with specified batch size from global parameter."
   ]
  },
  {
   "cell_type": "code",
   "execution_count": 11,
   "id": "fba07b47-1a17-4fd5-8cc2-9b7211c09097",
   "metadata": {},
   "outputs": [],
   "source": [
    "train_loader = DataLoader(train_dataset, batch_size=batch_size, shuffle=False)\n",
    "test_loader = DataLoader(test_dataset, batch_size=batch_size, shuffle=False)"
   ]
  },
  {
   "cell_type": "markdown",
   "id": "11056a11-a755-48ce-ade3-fe2ca4fae3ce",
   "metadata": {},
   "source": [
    "Initialize the ML model. This is an example and should be changed to fit our scenario."
   ]
  },
  {
   "cell_type": "code",
   "execution_count": 12,
   "id": "bf1a163b-50cb-4c18-b85a-009fe7c7c4bf",
   "metadata": {},
   "outputs": [
    {
     "data": {
      "text/plain": [
       "LSTM(\n",
       "  (lstm): LSTM(1, 4, batch_first=True)\n",
       "  (fc): Linear(in_features=4, out_features=1, bias=True)\n",
       ")"
      ]
     },
     "execution_count": 12,
     "metadata": {},
     "output_type": "execute_result"
    }
   ],
   "source": [
    "class LSTM(nn.Module):\n",
    "    \"\"\"Super scuffed LSTM.\"\"\"\n",
    "\n",
    "    def __init__(\n",
    "        self, input_size: int, hidden_size: int, num_stacked_layers: int\n",
    "    ) -> None:\n",
    "        \"\"\"Subject to change.\"\"\"\n",
    "        super().__init__()\n",
    "        self.hidden_size = hidden_size\n",
    "        self.num_stacked_layers = num_stacked_layers\n",
    "\n",
    "        self.lstm = nn.LSTM(\n",
    "            input_size, hidden_size, num_stacked_layers, batch_first=True\n",
    "        )\n",
    "\n",
    "        self.fc = nn.Linear(hidden_size, 1)\n",
    "\n",
    "    def forward(self, x: torch.tensor) -> torch.tensor:\n",
    "        \"\"\"Subject to change.\"\"\"\n",
    "        batch_size = x.size(0)\n",
    "        h0 = torch.zeros(self.num_stacked_layers, batch_size, self.hidden_size).to(\n",
    "            device\n",
    "        )\n",
    "        c0 = torch.zeros(self.num_stacked_layers, batch_size, self.hidden_size).to(\n",
    "            device\n",
    "        )\n",
    "\n",
    "        out, _ = self.lstm(x, (h0, c0))\n",
    "        out = self.fc(out[:, -1, :])\n",
    "        return out\n",
    "\n",
    "\n",
    "model = LSTM(1, 4, 1)\n",
    "model.to(device)\n",
    "model"
   ]
  },
  {
   "cell_type": "markdown",
   "id": "2afd81b2-033b-4e7d-b6fc-8a108bc315cc",
   "metadata": {},
   "source": [
    "Train epoch. This is an example and should be changed to fit our scenario."
   ]
  },
  {
   "cell_type": "code",
   "execution_count": 13,
   "id": "1536bea4-ae30-4bae-abd4-09841edf2d3e",
   "metadata": {},
   "outputs": [],
   "source": [
    "optimizer = torch.optim.Adam(model.parameters(), lr=learning_rate)\n",
    "\n",
    "\n",
    "def train_one_epoch() -> None:\n",
    "    \"\"\"Subject to change.\"\"\"\n",
    "    model.train(True)\n",
    "    print(f\"Epoch: {epoch + 1}\")\n",
    "    running_loss = 0.0\n",
    "\n",
    "    for batch_index, batch in enumerate(train_loader):\n",
    "        x_batch, y_batch = batch[0].to(device), batch[1].to(device)\n",
    "\n",
    "        output = model(x_batch)\n",
    "        loss = loss_function(output, y_batch)\n",
    "        running_loss += loss.item()\n",
    "\n",
    "        optimizer.zero_grad()\n",
    "        loss.backward()\n",
    "        optimizer.step()\n",
    "\n",
    "        if batch_index % 256 == 0:\n",
    "            avg_loss_across_batches = running_loss / batch_size\n",
    "            print(\n",
    "                \"Batch {0}, AvgLoss: {1:.3f}\".format(\n",
    "                    batch_index + 1, avg_loss_across_batches\n",
    "                )\n",
    "            )\n",
    "        running_loss = 0.0\n",
    "\n",
    "    print()"
   ]
  },
  {
   "cell_type": "markdown",
   "id": "0dfe71f6-526b-4b51-8ff1-a02189400819",
   "metadata": {},
   "source": [
    "Validate epoch. This is an example and should be changed to fit our scenario."
   ]
  },
  {
   "cell_type": "code",
   "execution_count": 14,
   "id": "436f5a02-bb66-4683-b347-0ccb967c3544",
   "metadata": {},
   "outputs": [],
   "source": [
    "def validate_one_epoch() -> None:\n",
    "    \"\"\"Subject to change.\"\"\"\n",
    "    model.train(False)\n",
    "    running_loss = 0.0\n",
    "\n",
    "    for batch_index, batch in enumerate(test_loader):\n",
    "        x_batch, y_batch = batch[0].to(device), batch[1].to(device)\n",
    "\n",
    "        with torch.no_grad():\n",
    "            output = model(x_batch)\n",
    "            loss = loss_function(output, y_batch)\n",
    "            running_loss += loss\n",
    "\n",
    "    avg_loss_across_batches = running_loss / len(test_loader)\n",
    "\n",
    "    print(\"Val Loss: {0:.3f}\".format(avg_loss_across_batches))\n",
    "    print(\"***************************************************\")\n",
    "    print()"
   ]
  },
  {
   "cell_type": "markdown",
   "id": "855b7097-b2c0-4704-a557-e556d23e43e3",
   "metadata": {},
   "source": [
    "Train and validate the model. This is an example and should be changed to fit our scenario."
   ]
  },
  {
   "cell_type": "code",
   "execution_count": 15,
   "id": "4dcc0224-38da-4f18-ad98-b00c414c5168",
   "metadata": {},
   "outputs": [
    {
     "name": "stdout",
     "output_type": "stream",
     "text": [
      "Epoch: 1\n",
      "Batch 1, AvgLoss: 0.005\n",
      "Batch 257, AvgLoss: 0.000\n",
      "Batch 513, AvgLoss: 0.001\n",
      "Batch 769, AvgLoss: 0.001\n",
      "Batch 1025, AvgLoss: 0.001\n",
      "Batch 1281, AvgLoss: 0.004\n",
      "Batch 1537, AvgLoss: 0.002\n",
      "\n",
      "Val Loss: 0.016\n",
      "***************************************************\n",
      "\n",
      "Epoch: 2\n",
      "Batch 1, AvgLoss: 0.000\n",
      "Batch 257, AvgLoss: 0.000\n",
      "Batch 513, AvgLoss: 0.001\n",
      "Batch 769, AvgLoss: 0.000\n",
      "Batch 1025, AvgLoss: 0.000\n",
      "Batch 1281, AvgLoss: 0.002\n",
      "Batch 1537, AvgLoss: 0.001\n",
      "\n",
      "Val Loss: 0.007\n",
      "***************************************************\n",
      "\n",
      "Epoch: 3\n",
      "Batch 1, AvgLoss: 0.000\n",
      "Batch 257, AvgLoss: 0.000\n",
      "Batch 513, AvgLoss: 0.000\n",
      "Batch 769, AvgLoss: 0.000\n",
      "Batch 1025, AvgLoss: 0.000\n",
      "Batch 1281, AvgLoss: 0.001\n",
      "Batch 1537, AvgLoss: 0.001\n",
      "\n",
      "Val Loss: 0.004\n",
      "***************************************************\n",
      "\n",
      "Epoch: 4\n",
      "Batch 1, AvgLoss: 0.000\n",
      "Batch 257, AvgLoss: 0.000\n",
      "Batch 513, AvgLoss: 0.000\n",
      "Batch 769, AvgLoss: 0.000\n",
      "Batch 1025, AvgLoss: 0.000\n",
      "Batch 1281, AvgLoss: 0.001\n",
      "Batch 1537, AvgLoss: 0.001\n",
      "\n",
      "Val Loss: 0.004\n",
      "***************************************************\n",
      "\n",
      "Epoch: 5\n",
      "Batch 1, AvgLoss: 0.000\n",
      "Batch 257, AvgLoss: 0.000\n",
      "Batch 513, AvgLoss: 0.000\n",
      "Batch 769, AvgLoss: 0.000\n",
      "Batch 1025, AvgLoss: 0.000\n",
      "Batch 1281, AvgLoss: 0.001\n",
      "Batch 1537, AvgLoss: 0.000\n",
      "\n",
      "Val Loss: 0.004\n",
      "***************************************************\n",
      "\n",
      "Epoch: 6\n",
      "Batch 1, AvgLoss: 0.000\n",
      "Batch 257, AvgLoss: 0.000\n",
      "Batch 513, AvgLoss: 0.000\n",
      "Batch 769, AvgLoss: 0.000\n",
      "Batch 1025, AvgLoss: 0.000\n",
      "Batch 1281, AvgLoss: 0.001\n",
      "Batch 1537, AvgLoss: 0.000\n",
      "\n",
      "Val Loss: 0.004\n",
      "***************************************************\n",
      "\n",
      "Epoch: 7\n",
      "Batch 1, AvgLoss: 0.000\n",
      "Batch 257, AvgLoss: 0.000\n",
      "Batch 513, AvgLoss: 0.000\n",
      "Batch 769, AvgLoss: 0.000\n",
      "Batch 1025, AvgLoss: 0.000\n",
      "Batch 1281, AvgLoss: 0.001\n",
      "Batch 1537, AvgLoss: 0.000\n",
      "\n",
      "Val Loss: 0.004\n",
      "***************************************************\n",
      "\n",
      "Epoch: 8\n",
      "Batch 1, AvgLoss: 0.000\n",
      "Batch 257, AvgLoss: 0.000\n",
      "Batch 513, AvgLoss: 0.000\n",
      "Batch 769, AvgLoss: 0.000\n",
      "Batch 1025, AvgLoss: 0.000\n",
      "Batch 1281, AvgLoss: 0.001\n",
      "Batch 1537, AvgLoss: 0.000\n",
      "\n",
      "Val Loss: 0.004\n",
      "***************************************************\n",
      "\n",
      "Epoch: 9\n",
      "Batch 1, AvgLoss: 0.000\n",
      "Batch 257, AvgLoss: 0.000\n",
      "Batch 513, AvgLoss: 0.000\n",
      "Batch 769, AvgLoss: 0.000\n",
      "Batch 1025, AvgLoss: 0.000\n",
      "Batch 1281, AvgLoss: 0.001\n",
      "Batch 1537, AvgLoss: 0.000\n",
      "\n",
      "Val Loss: 0.004\n",
      "***************************************************\n",
      "\n",
      "Epoch: 10\n",
      "Batch 1, AvgLoss: 0.000\n",
      "Batch 257, AvgLoss: 0.000\n",
      "Batch 513, AvgLoss: 0.000\n",
      "Batch 769, AvgLoss: 0.000\n",
      "Batch 1025, AvgLoss: 0.000\n",
      "Batch 1281, AvgLoss: 0.001\n",
      "Batch 1537, AvgLoss: 0.000\n",
      "\n",
      "Val Loss: 0.004\n",
      "***************************************************\n",
      "\n"
     ]
    }
   ],
   "source": [
    "for epoch in range(num_epochs):\n",
    "    train_one_epoch()\n",
    "    validate_one_epoch()"
   ]
  },
  {
   "cell_type": "markdown",
   "id": "4019724b-7b41-4422-8635-ff06c284904a",
   "metadata": {},
   "source": [
    "Visualize model performance. This is an example and should be changed to fit our scenario. Currently the data is not inversed from normalization."
   ]
  },
  {
   "cell_type": "code",
   "execution_count": 16,
   "id": "f17c784d-833a-4a74-8443-0556b82c7086",
   "metadata": {},
   "outputs": [
    {
     "data": {
      "image/png": "[encoded data removed]",
      "text/plain": [
       "<Figure size 640x480 with 1 Axes>"
      ]
     },
     "metadata": {},
     "output_type": "display_data"
    }
   ],
   "source": [
    "with torch.no_grad():\n",
    "    predicted = model(x_train.to(device)).to(\"cpu\").numpy()\n",
    "\n",
    "plt.plot(Y_train, label=\"Actual Consumption\")\n",
    "plt.plot(predicted, label=\"Predicted Consumption\")\n",
    "plt.xlabel(\"Hour\")\n",
    "plt.ylabel(\"Consumption\")\n",
    "plt.legend()\n",
    "plt.show()"
   ]
  }
 ],
 "metadata": {
  "kernelspec": {
   "display_name": "Python 3 (ipykernel)",
   "language": "python",
   "name": "python3"
  },
  "language_info": {
   "codemirror_mode": {
    "name": "ipython",
    "version": 3
   },
   "file_extension": ".py",
   "mimetype": "text/x-python",
   "name": "python",
   "nbconvert_exporter": "python",
   "pygments_lexer": "ipython3",
   "version": "3.12.6"
  }
 },
 "nbformat": 4,
 "nbformat_minor": 5
}
